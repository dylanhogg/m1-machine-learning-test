{
 "cells": [
  {
   "cell_type": "markdown",
   "metadata": {
    "colab_type": "text",
    "id": "view-in-github"
   },
   "source": [
    "<a href=\"https://colab.research.google.com/github/mrdbourke/m1-machine-learning-test/blob/main/01_food101_effnet_benchmark.ipynb\" target=\"_parent\"><img src=\"https://colab.research.google.com/assets/colab-badge.svg\" alt=\"Open In Colab\"/></a>"
   ]
  },
  {
   "cell_type": "markdown",
   "metadata": {
    "id": "V2tdnA60uOMm"
   },
   "source": [
    "# Food101 EfficientNetB0 Feature Extraction Benchmark\n",
    "\n",
    "The following notebook tests the speed at which a given device can perform training iterations on the Food101 dataset (~100,000 total images) using [EfficientNetB0](https://arxiv.org/abs/1905.11946) as a base model.\n",
    "\n",
    "It's designed to be a simple test to compare Apple's M1 (normal, Pro, Max) to each other and other sources of compute.\n",
    "\n",
    "| Model | Dataset | Train Size | Test Size |\n",
    "| ----- | ----- | ----- | ----- |\n",
    "| [EfficientNetB0](https://www.tensorflow.org/api_docs/python/tf/keras/applications/efficientnet/EfficientNetB0) (pretrained on ImageNet) | Food 101 ([from TensorFlow Datasets](https://www.tensorflow.org/datasets/catalog/food101)) | ~75,000 images | ~25,000 images|\n",
    "\n",
    "## Resources\n",
    "* Code on GitHub: https://github.com/mrdbourke/m1-machine-learning-test\n",
    "* Code in this notebook adapted from: https://dev.mrdbourke.com/tensorflow-deep-learning/07_food_vision_milestone_project_1/ "
   ]
  },
  {
   "cell_type": "markdown",
   "metadata": {
    "id": "ZnvtBgcszhJk"
   },
   "source": [
    "## Check for GPU\n",
    "\n",
    "If you're using Google Colab, you'll need to activate a GPU:\n",
    "1. Go to \"Runtime\"\n",
    "2. Go to \"Change Runtime Type\"\n",
    "3. Select \"GPU\"\n",
    "4. Click \"Save\" (this will restart the runtime)\n",
    "\n",
    "If you're using a Mac with an M1 chip, the GPU should already be selected if you've installed TensorFlow correctly."
   ]
  },
  {
   "cell_type": "code",
   "execution_count": 1,
   "metadata": {
    "colab": {
     "base_uri": "https://localhost:8080/"
    },
    "id": "eaCi-HVqs9SD",
    "outputId": "95c66bcf-4978-4186-8246-1775147e45b8"
   },
   "outputs": [
    {
     "name": "stdout",
     "output_type": "stream",
     "text": [
      "zsh:1: command not found: nvidia-smi\r\n"
     ]
    }
   ],
   "source": [
    "# This will error if not using a Nvidia GPU (only works on Colab)\n",
    "!nvidia-smi"
   ]
  },
  {
   "cell_type": "code",
   "execution_count": 2,
   "metadata": {},
   "outputs": [
    {
     "data": {
      "text/plain": [
       "[PhysicalDevice(name='/physical_device:CPU:0', device_type='CPU'),\n",
       " PhysicalDevice(name='/physical_device:GPU:0', device_type='GPU')]"
      ]
     },
     "execution_count": 2,
     "metadata": {},
     "output_type": "execute_result"
    }
   ],
   "source": [
    "# Check for GPU using TensorFlow\n",
    "import tensorflow as tf\n",
    "tf.config.list_physical_devices()"
   ]
  },
  {
   "cell_type": "markdown",
   "metadata": {
    "id": "VCaYVPaa7yXc"
   },
   "source": [
    "## Setup hyperparameters\n",
    "\n",
    "Change these to suit your needs.\n",
    "\n",
    "The main one will be the device you're running code on.\n",
    "\n",
    "E.g. `DEVICE = \"Google Colab (K80 GPU)\"` if using Google Colab."
   ]
  },
  {
   "cell_type": "code",
   "execution_count": 4,
   "metadata": {
    "id": "5dMYCl3Z71ZC"
   },
   "outputs": [],
   "source": [
    "# Setup hyperparameters\n",
    "BATCH_SIZE = 32 # good for your health: https://twitter.com/ylecun/status/989610208497360896\n",
    "EPOCHS = 5 # only run for a short period of time... we don't have all day\n",
    "DATASET_NAME = \"food101\" # change this to try other image datasets from TensorFlow Datasets\n",
    "DEVICE = \"Apple M1 Max Dylan\" # Note: Change this depending on where you're running code"
   ]
  },
  {
   "cell_type": "markdown",
   "metadata": {
    "id": "UwyPg5c5zjbR"
   },
   "source": [
    "## Get helper functions and import dependencies\n",
    "\n",
    "The function below downloads the helper functions if necessary (if running this notebook in Google Colab, it's easier to download a single file than clone the whole repo)."
   ]
  },
  {
   "cell_type": "code",
   "execution_count": 5,
   "metadata": {
    "colab": {
     "base_uri": "https://localhost:8080/"
    },
    "id": "Y3qSf0iQvjpd",
    "outputId": "43954d84-f524-497c-d276-5628df5f4ff8"
   },
   "outputs": [
    {
     "name": "stdout",
     "output_type": "stream",
     "text": [
      "Helper functions already downloaded, skipping redownload.\n"
     ]
    }
   ],
   "source": [
    "# Get helper functions\n",
    "import os\n",
    "import requests\n",
    "\n",
    "if not os.path.exists(\"helper_functions.py\"):\n",
    "  print(\"Downloading helper functions...\")\n",
    "  r = requests.get(\"https://raw.githubusercontent.com/mrdbourke/m1-machine-learning-test/main/helper_functions.py\")\n",
    "  print(\"Writing helper functions to file...\")\n",
    "  open(\"helper_functions.py\", \"wb\").write(r.content)\n",
    "else:\n",
    "  print(\"Helper functions already downloaded, skipping redownload.\")"
   ]
  },
  {
   "cell_type": "code",
   "execution_count": 6,
   "metadata": {
    "colab": {
     "base_uri": "https://localhost:8080/"
    },
    "id": "8QDVW2octS28",
    "outputId": "3caab34f-1200-4c48-903e-c2692b33538e"
   },
   "outputs": [
    {
     "name": "stdout",
     "output_type": "stream",
     "text": [
      "2.7.0\n"
     ]
    }
   ],
   "source": [
    "# Check TensorFlow version\n",
    "import tensorflow as tf\n",
    "print(tf.__version__) # should be 2.5.0+\n",
    "\n",
    "# Get TensorFlow Datasets\n",
    "import tensorflow_datasets as tfds\n",
    "\n",
    "# Get data science libraries\n",
    "import pandas as pd\n",
    "import numpy as np\n",
    "import matplotlib.pyplot as plt\n",
    "\n",
    "from tensorflow.keras import layers\n",
    "from timeit import default_timer as timer \n",
    "from helper_functions import print_train_time"
   ]
  },
  {
   "cell_type": "markdown",
   "metadata": {
    "id": "fub1QJ7UuybU"
   },
   "source": [
    "## Download Data\n",
    "\n",
    "We'll download the data from the Food101 dataset [stored in TensorFlow Datasets](https://www.tensorflow.org/datasets/catalog/food101). This dataset contains ~100,000 images and should be a good test to see how the machines go with a larger dataset.\n",
    "\n",
    "> **Note:** Downloading the dataset (running the cell below) will download ~4.5GB of images to your local machine (or to Google Colab). Depending on your internet, it could take 5-20 minutes.\n",
    "\n"
   ]
  },
  {
   "cell_type": "code",
   "execution_count": 7,
   "metadata": {
    "id": "mvErMJcRtaXr"
   },
   "outputs": [
    {
     "name": "stderr",
     "output_type": "stream",
     "text": [
      "2021-12-21 17:17:51.125460: W tensorflow/core/platform/cloud/google_auth_provider.cc:184] All attempts to get a Google authentication bearer token failed, returning an empty token. Retrieving token from files failed with \"NOT_FOUND: Could not locate the credentials file.\". Retrieving token from GCE failed with \"FAILED_PRECONDITION: Error executing an HTTP request: libcurl code 6 meaning 'Couldn't resolve host name', error details: Could not resolve host: metadata\".\n"
     ]
    },
    {
     "name": "stdout",
     "output_type": "stream",
     "text": [
      "\u001b[1mDownloading and preparing dataset 4.65 GiB (download: 4.65 GiB, generated: Unknown size, total: 4.65 GiB) to /Users/dylan/tensorflow_datasets/food101/2.0.0...\u001b[0m\n"
     ]
    },
    {
     "data": {
      "application/vnd.jupyter.widget-view+json": {
       "model_id": "8d6b2c7aaab74b23a134f2c0535732ff",
       "version_major": 2,
       "version_minor": 0
      },
      "text/plain": [
       "Dl Completed...: 0 url [00:00, ? url/s]"
      ]
     },
     "metadata": {},
     "output_type": "display_data"
    },
    {
     "data": {
      "application/vnd.jupyter.widget-view+json": {
       "model_id": "5265342694474cc8a5a781037f8d7246",
       "version_major": 2,
       "version_minor": 0
      },
      "text/plain": [
       "Dl Size...: 0 MiB [00:00, ? MiB/s]"
      ]
     },
     "metadata": {},
     "output_type": "display_data"
    },
    {
     "data": {
      "application/vnd.jupyter.widget-view+json": {
       "model_id": "3e7ef6ae78094cd79831d8cc0b051735",
       "version_major": 2,
       "version_minor": 0
      },
      "text/plain": [
       "Extraction completed...: 0 file [00:00, ? file/s]"
      ]
     },
     "metadata": {},
     "output_type": "display_data"
    },
    {
     "data": {
      "application/vnd.jupyter.widget-view+json": {
       "model_id": "",
       "version_major": 2,
       "version_minor": 0
      },
      "text/plain": [
       "Generating splits...:   0%|          | 0/2 [00:00<?, ? splits/s]"
      ]
     },
     "metadata": {},
     "output_type": "display_data"
    },
    {
     "data": {
      "application/vnd.jupyter.widget-view+json": {
       "model_id": "",
       "version_major": 2,
       "version_minor": 0
      },
      "text/plain": [
       "Generating train examples...:   0%|          | 0/75750 [00:00<?, ? examples/s]"
      ]
     },
     "metadata": {},
     "output_type": "display_data"
    },
    {
     "data": {
      "application/vnd.jupyter.widget-view+json": {
       "model_id": "",
       "version_major": 2,
       "version_minor": 0
      },
      "text/plain": [
       "Shuffling food101-train.tfrecord...:   0%|          | 0/75750 [00:00<?, ? examples/s]"
      ]
     },
     "metadata": {},
     "output_type": "display_data"
    },
    {
     "data": {
      "application/vnd.jupyter.widget-view+json": {
       "model_id": "",
       "version_major": 2,
       "version_minor": 0
      },
      "text/plain": [
       "Generating validation examples...:   0%|          | 0/25250 [00:00<?, ? examples/s]"
      ]
     },
     "metadata": {},
     "output_type": "display_data"
    },
    {
     "data": {
      "application/vnd.jupyter.widget-view+json": {
       "model_id": "",
       "version_major": 2,
       "version_minor": 0
      },
      "text/plain": [
       "Shuffling food101-validation.tfrecord...:   0%|          | 0/25250 [00:00<?, ? examples/s]"
      ]
     },
     "metadata": {},
     "output_type": "display_data"
    },
    {
     "name": "stdout",
     "output_type": "stream",
     "text": [
      "\u001b[1mDataset food101 downloaded and prepared to /Users/dylan/tensorflow_datasets/food101/2.0.0. Subsequent calls will reuse this data.\u001b[0m\n",
      "Metal device set to: Apple M1 Max\n"
     ]
    },
    {
     "name": "stderr",
     "output_type": "stream",
     "text": [
      "2021-12-21 17:40:57.971834: I tensorflow/core/common_runtime/pluggable_device/pluggable_device_factory.cc:305] Could not identify NUMA node of platform GPU ID 0, defaulting to 0. Your kernel may not have been built with NUMA support.\n",
      "2021-12-21 17:40:57.971974: I tensorflow/core/common_runtime/pluggable_device/pluggable_device_factory.cc:271] Created TensorFlow device (/job:localhost/replica:0/task:0/device:GPU:0 with 0 MB memory) -> physical PluggableDevice (device: 0, name: METAL, pci bus id: <undefined>)\n"
     ]
    }
   ],
   "source": [
    "# Load in the data (takes about 5-6 minutes in Google Colab)\n",
    "(train_data, test_data), ds_info = tfds.load(name=DATASET_NAME, # target dataset to get from TFDS\n",
    "                                             split=[\"train\", \"validation\"], # what splits of data should we get? note: not all datasets have train, valid, test\n",
    "                                             shuffle_files=True, # shuffle files on download?\n",
    "                                             as_supervised=True, # download data in tuple format (sample, label), e.g. (image, label)\n",
    "                                             with_info=True) # include dataset metadata? if so, tfds.load() returns tuple (data, ds_info)"
   ]
  },
  {
   "cell_type": "markdown",
   "metadata": {
    "id": "7X2Sgw3Z1rZd"
   },
   "source": [
    "## Check out dataset\n",
    "\n",
    "Let's check a few things with the data to make sure it's okay to model. "
   ]
  },
  {
   "cell_type": "code",
   "execution_count": 8,
   "metadata": {
    "colab": {
     "base_uri": "https://localhost:8080/"
    },
    "id": "fI-s31aOuo3-",
    "outputId": "aa231d55-d8f0-4254-fdb8-2d0528454922"
   },
   "outputs": [
    {
     "data": {
      "text/plain": [
       "(75750, 25250)"
      ]
     },
     "execution_count": 8,
     "metadata": {},
     "output_type": "execute_result"
    }
   ],
   "source": [
    "# Check number of samples\n",
    "len(train_data), len(test_data)"
   ]
  },
  {
   "cell_type": "code",
   "execution_count": 9,
   "metadata": {
    "colab": {
     "base_uri": "https://localhost:8080/"
    },
    "id": "BReXYZwhtdq2",
    "outputId": "c103c4f2-34d1-441b-d39e-b7bfa16a6971"
   },
   "outputs": [
    {
     "data": {
      "text/plain": [
       "(['apple_pie',\n",
       "  'baby_back_ribs',\n",
       "  'baklava',\n",
       "  'beef_carpaccio',\n",
       "  'beef_tartare',\n",
       "  'beet_salad',\n",
       "  'beignets',\n",
       "  'bibimbap',\n",
       "  'bread_pudding',\n",
       "  'breakfast_burrito'],\n",
       " 101)"
      ]
     },
     "execution_count": 9,
     "metadata": {},
     "output_type": "execute_result"
    }
   ],
   "source": [
    "# Get class names\n",
    "class_names = ds_info.features[\"label\"].names\n",
    "class_names[:10], len(class_names)"
   ]
  },
  {
   "cell_type": "code",
   "execution_count": 10,
   "metadata": {
    "colab": {
     "base_uri": "https://localhost:8080/",
     "height": 367
    },
    "id": "d4VN9HfCtoup",
    "outputId": "dcdfdbb1-faae-44f7-d20e-e90f54ee3828"
   },
   "outputs": [
    {
     "name": "stdout",
     "output_type": "stream",
     "text": [
      "\n",
      "  Image shape: (512, 512, 3)\n",
      "  Image dtype: <dtype: 'uint8'>\n",
      "  Target class from Food101 (tensor form): 23\n",
      "  Class name (str form): churros\n",
      "        \n"
     ]
    },
    {
     "name": "stderr",
     "output_type": "stream",
     "text": [
      "2021-12-21 17:40:58.103908: W tensorflow/core/platform/profile_utils/cpu_utils.cc:128] Failed to get CPU frequency: 0 Hz\n"
     ]
    },
    {
     "data": {
      "image/png": "[encoded data removed]",
      "text/plain": [
       "<Figure size 432x288 with 1 Axes>"
      ]
     },
     "metadata": {
      "needs_background": "light"
     },
     "output_type": "display_data"
    }
   ],
   "source": [
    "# Take one sample off the training data\n",
    "train_one_sample = train_data.take(1) # samples are in format (image_tensor, label)\n",
    "\n",
    "# Output info about our training sample\n",
    "for image, label in train_one_sample:\n",
    "  print(f\"\"\"\n",
    "  Image shape: {image.shape}\n",
    "  Image dtype: {image.dtype}\n",
    "  Target class from Food101 (tensor form): {label}\n",
    "  Class name (str form): {class_names[label.numpy()]}\n",
    "        \"\"\")\n",
    "  plt.imshow(image)\n",
    "  plt.title(class_names[label.numpy()])\n",
    "  plt.axis(False)"
   ]
  },
  {
   "cell_type": "markdown",
   "metadata": {
    "id": "oyU6gLkg1w9d"
   },
   "source": [
    "## Prepare data\n",
    "\n",
    "The data looks good. But before we model it, we're going to prepare it to run as fast as possible using [TensorFlow data loading best practices](https://www.tensorflow.org/guide/data_performance).\n",
    "\n",
    "As EfficientNetB0 takes images of size `(224, 224, 3)`, we'll resize all the images to that size."
   ]
  },
  {
   "cell_type": "code",
   "execution_count": 11,
   "metadata": {
    "id": "WxIwNybPt5JP"
   },
   "outputs": [],
   "source": [
    "# Make a function for preprocessing images\n",
    "def preprocess_img(image, label, img_shape=224):\n",
    "  \"\"\"\n",
    "  Converts image datatype from 'uint8' -> 'float32' and reshapes image to\n",
    "  [img_shape, img_shape, color_channels]\n",
    "  \"\"\"\n",
    "  image = tf.image.resize(image, [img_shape, img_shape]) # reshape to img_shape\n",
    "  return tf.cast(image, tf.float32), label # return (float32_image, label) tuple"
   ]
  },
  {
   "cell_type": "code",
   "execution_count": 12,
   "metadata": {
    "id": "FcqnLdGNuDAH"
   },
   "outputs": [],
   "source": [
    "# Map preprocessing function to training data (and paralellize)\n",
    "train_data = train_data.map(map_func=preprocess_img, num_parallel_calls=tf.data.AUTOTUNE)\n",
    "# Shuffle train_data and turn it into batches and prefetch it (load it faster)\n",
    "train_data = train_data.shuffle(buffer_size=1000).batch(batch_size=32).prefetch(buffer_size=tf.data.AUTOTUNE)\n",
    "\n",
    "# Map prepreprocessing function to test data\n",
    "test_data = test_data.map(preprocess_img, num_parallel_calls=tf.data.AUTOTUNE)\n",
    "# Turn test data into batches (don't need to shuffle)\n",
    "test_data = test_data.batch(BATCH_SIZE).prefetch(tf.data.AUTOTUNE)"
   ]
  },
  {
   "cell_type": "markdown",
   "metadata": {
    "id": "xVNYiGtK2BPQ"
   },
   "source": [
    "## Setup model\n",
    "\n",
    "We'll setup the model to use EfficientNetB0 pretrained on ImageNet as the base model. But we'll replace the top layers to be more suited to our Food101 problem (101 output neurons instead of the standard 1000 output neurons).\n",
    "\n",
    "Also we'll run the model setup code before fitting the model so the model downloads to file separate from training (this will ensure the model downloading time won't add to the training time measure)."
   ]
  },
  {
   "cell_type": "code",
   "execution_count": 13,
   "metadata": {
    "id": "JS3ZgR8HuJiH"
   },
   "outputs": [
    {
     "name": "stdout",
     "output_type": "stream",
     "text": [
      "Downloading data from https://storage.googleapis.com/keras-applications/efficientnetb0_notop.h5\n",
      "16711680/16705208 [==============================] - 3s 0us/step\n",
      "16719872/16705208 [==============================] - 3s 0us/step\n"
     ]
    }
   ],
   "source": [
    "# Set random seed\n",
    "tf.random.set_seed(42)\n",
    "\n",
    "# Create base model\n",
    "input_shape = (224, 224, 3)\n",
    "base_model = tf.keras.applications.EfficientNetB0(include_top=False)\n",
    "base_model.trainable = False # freeze base model layers\n",
    "\n",
    "# Create Functional model \n",
    "inputs = layers.Input(shape=input_shape, name=\"input_layer\")\n",
    "# Note: EfficientNetBX models have rescaling built-in but if your model didn't you could have a layer like below\n",
    "# x = preprocessing.Rescaling(1./255)(x)\n",
    "x = base_model(inputs, training=False) # set base_model to inference mode only\n",
    "x = layers.GlobalAveragePooling2D(name=\"pooling_layer\")(x)\n",
    "outputs = layers.Dense(len(class_names), activation=\"softmax\")(x) # want one output neuron per class \n",
    "model = tf.keras.Model(inputs, outputs, name=\"EfficientNetB0_feature_extract\")\n",
    "\n",
    "# Compile the model\n",
    "model.compile(loss=\"sparse_categorical_crossentropy\", # Use sparse_categorical_crossentropy when labels are *not* one-hot\n",
    "              optimizer=tf.keras.optimizers.Adam(),\n",
    "              metrics=[\"accuracy\"])"
   ]
  },
  {
   "cell_type": "markdown",
   "metadata": {
    "id": "T5LkeKAv2hqR"
   },
   "source": [
    "## Fit the model\n",
    "\n",
    "Let's fit the model and track it's performance.\n",
    "\n",
    "We're not so much concerned of the accuracy as much as the time per epoch."
   ]
  },
  {
   "cell_type": "code",
   "execution_count": 14,
   "metadata": {
    "colab": {
     "base_uri": "https://localhost:8080/"
    },
    "id": "ejR_43M1uWAe",
    "outputId": "18cd231d-e391-4a70-acce-55417f767848"
   },
   "outputs": [
    {
     "name": "stdout",
     "output_type": "stream",
     "text": [
      "Epoch 1/5\n"
     ]
    },
    {
     "name": "stderr",
     "output_type": "stream",
     "text": [
      "2021-12-21 17:41:04.961901: I tensorflow/core/grappler/optimizers/custom_graph_optimizer_registry.cc:112] Plugin optimizer for device_type GPU is enabled.\n"
     ]
    },
    {
     "name": "stdout",
     "output_type": "stream",
     "text": [
      "2368/2368 [==============================] - ETA: 0s - loss: 1.8252 - accuracy: 0.5572"
     ]
    },
    {
     "name": "stderr",
     "output_type": "stream",
     "text": [
      "2021-12-21 17:43:09.461630: I tensorflow/core/grappler/optimizers/custom_graph_optimizer_registry.cc:112] Plugin optimizer for device_type GPU is enabled.\n"
     ]
    },
    {
     "name": "stdout",
     "output_type": "stream",
     "text": [
      "2368/2368 [==============================] - 166s 68ms/step - loss: 1.8252 - accuracy: 0.5572 - val_loss: 1.2304 - val_accuracy: 0.6770\n",
      "Epoch 2/5\n",
      "2368/2368 [==============================] - 159s 67ms/step - loss: 1.2940 - accuracy: 0.6664 - val_loss: 1.1314 - val_accuracy: 0.6977\n",
      "Epoch 3/5\n",
      "2368/2368 [==============================] - 160s 68ms/step - loss: 1.1425 - accuracy: 0.7020 - val_loss: 1.0912 - val_accuracy: 0.7078\n",
      "Epoch 4/5\n",
      "2368/2368 [==============================] - 161s 68ms/step - loss: 1.0455 - accuracy: 0.7261 - val_loss: 1.0762 - val_accuracy: 0.7083\n",
      "Epoch 5/5\n",
      "2368/2368 [==============================] - 169s 71ms/step - loss: 0.9745 - accuracy: 0.7443 - val_loss: 1.0686 - val_accuracy: 0.7086\n",
      "\n",
      "Train time on Apple M1 Max Dylan: 815.448 seconds\n"
     ]
    }
   ],
   "source": [
    "# Start timer\n",
    "start_time = timer()\n",
    "\n",
    "# Fit the model\n",
    "history = model.fit(train_data, \n",
    "                    epochs=EPOCHS,\n",
    "                    steps_per_epoch=len(train_data),\n",
    "                    validation_data=test_data,\n",
    "                    validation_steps=len(test_data))\n",
    "\n",
    "# End timer\n",
    "end_time = timer()\n",
    "\n",
    "# Print results\n",
    "train_time = print_train_time(start=start_time,\n",
    "                              end=end_time,\n",
    "                              device=DEVICE)"
   ]
  },
  {
   "cell_type": "markdown",
   "metadata": {
    "id": "hewegjHv2vWW"
   },
   "source": [
    "## Track results and save to file"
   ]
  },
  {
   "cell_type": "code",
   "execution_count": 15,
   "metadata": {
    "colab": {
     "base_uri": "https://localhost:8080/",
     "height": 153
    },
    "id": "zAUWHaw_vEar",
    "outputId": "8386ac81-d931-4693-d0b1-b5a1ad4a39ec"
   },
   "outputs": [
    {
     "data": {
      "text/html": [
       "<div>\n",
       "<style scoped>\n",
       "    .dataframe tbody tr th:only-of-type {\n",
       "        vertical-align: middle;\n",
       "    }\n",
       "\n",
       "    .dataframe tbody tr th {\n",
       "        vertical-align: top;\n",
       "    }\n",
       "\n",
       "    .dataframe thead th {\n",
       "        text-align: right;\n",
       "    }\n",
       "</style>\n",
       "<table border=\"1\" class=\"dataframe\">\n",
       "  <thead>\n",
       "    <tr style=\"text-align: right;\">\n",
       "      <th></th>\n",
       "      <th>device</th>\n",
       "      <th>dataset_name</th>\n",
       "      <th>epochs</th>\n",
       "      <th>batch_size</th>\n",
       "      <th>num_train_samples</th>\n",
       "      <th>num_test_samples</th>\n",
       "      <th>total_train_time</th>\n",
       "      <th>time_per_epoch</th>\n",
       "      <th>model</th>\n",
       "    </tr>\n",
       "  </thead>\n",
       "  <tbody>\n",
       "    <tr>\n",
       "      <th>0</th>\n",
       "      <td>Apple M1 Max Dylan</td>\n",
       "      <td>food101</td>\n",
       "      <td>5</td>\n",
       "      <td>32</td>\n",
       "      <td>75776</td>\n",
       "      <td>25280</td>\n",
       "      <td>815.448</td>\n",
       "      <td>163.09</td>\n",
       "      <td>EfficientNetB0_feature_extract</td>\n",
       "    </tr>\n",
       "  </tbody>\n",
       "</table>\n",
       "</div>"
      ],
      "text/plain": [
       "               device dataset_name  epochs  batch_size  num_train_samples  \\\n",
       "0  Apple M1 Max Dylan      food101       5          32              75776   \n",
       "\n",
       "   num_test_samples  total_train_time  time_per_epoch  \\\n",
       "0             25280           815.448          163.09   \n",
       "\n",
       "                            model  \n",
       "0  EfficientNetB0_feature_extract  "
      ]
     },
     "execution_count": 15,
     "metadata": {},
     "output_type": "execute_result"
    }
   ],
   "source": [
    "results = {\n",
    "    \"device\": DEVICE,\n",
    "    \"dataset_name\": DATASET_NAME,\n",
    "    \"epochs\": EPOCHS,\n",
    "    \"batch_size\": BATCH_SIZE,\n",
    "    \"num_train_samples\": len(train_data)*BATCH_SIZE,\n",
    "    \"num_test_samples\": len(test_data)*BATCH_SIZE,\n",
    "    \"total_train_time\": round(train_time, 3),\n",
    "    \"time_per_epoch\": round(train_time/EPOCHS, 3),\n",
    "    \"model\": model.name\n",
    "    }\n",
    "results_df = pd.DataFrame(results, index=[0])\n",
    "results_df"
   ]
  },
  {
   "cell_type": "code",
   "execution_count": 16,
   "metadata": {
    "id": "a6g_REeI7QWH"
   },
   "outputs": [],
   "source": [
    "# Write CSV to file\n",
    "if not os.path.exists(\"results/\"):\n",
    "  os.makedirs(\"results/\")\n",
    "\n",
    "results_df.to_csv(f\"results/{DEVICE}_{DATASET_NAME}.csv\")"
   ]
  },
  {
   "cell_type": "markdown",
   "metadata": {
    "id": "dttjWpeP3IOl"
   },
   "source": [
    "## Extras\n",
    "\n",
    "Make sure to delete the extra downloaded files (the Food101 dataset) if you do not want to keep them on your machine."
   ]
  },
  {
   "cell_type": "code",
   "execution_count": 17,
   "metadata": {},
   "outputs": [
    {
     "name": "stdout",
     "output_type": "stream",
     "text": [
      "Error: /Users/daniel/tensorflow_datasets/food101/ - No such file or directory\n"
     ]
    }
   ],
   "source": [
    "# Change this to suit your path\n",
    "# import shutil\n",
    "# try:\n",
    "#     shutil.rmtree(\"/Users/daniel/tensorflow_datasets/food101/\")\n",
    "# except OSError as e:\n",
    "#     print(f\"Error: {e.filename} - {e.strerror}\")"
   ]
  },
  {
   "cell_type": "code",
   "execution_count": null,
   "metadata": {},
   "outputs": [],
   "source": []
  },
  {
   "cell_type": "code",
   "execution_count": null,
   "metadata": {},
   "outputs": [],
   "source": []
  }
 ],
 "metadata": {
  "accelerator": "GPU",
  "colab": {
   "authorship_tag": "ABX9TyMzZ4IJbRR713ssS1uVa6Le",
   "collapsed_sections": [],
   "include_colab_link": true,
   "name": "01_food101_effnet_benchmark.ipynb",
   "provenance": []
  },
  "kernelspec": {
   "display_name": "Python 3 (ipykernel)",
   "language": "python",
   "name": "python3"
  },
  "language_info": {
   "codemirror_mode": {
    "name": "ipython",
    "version": 3
   },
   "file_extension": ".py",
   "mimetype": "text/x-python",
   "name": "python",
   "nbconvert_exporter": "python",
   "pygments_lexer": "ipython3",
   "version": "3.9.9"
  }
 },
 "nbformat": 4,
 "nbformat_minor": 1
}
